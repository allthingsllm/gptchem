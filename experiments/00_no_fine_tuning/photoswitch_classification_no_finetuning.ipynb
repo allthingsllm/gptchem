{
 "cells": [
  {
   "cell_type": "markdown",
   "metadata": {},
   "source": [
    "# Performance of GPT models on the photoswitch classification task without fine-tuning.\n"
   ]
  },
  {
   "cell_type": "code",
   "execution_count": 1,
   "metadata": {},
   "outputs": [],
   "source": [
    "%load_ext autoreload\n",
    "%autoreload 2"
   ]
  },
  {
   "cell_type": "code",
   "execution_count": 2,
   "metadata": {},
   "outputs": [],
   "source": [
    "import pandas as pd\n",
    "from scipy.stats import sem\n",
    "from sklearn.model_selection import train_test_split\n",
    "\n",
    "from gptchem.data import get_photoswitch_data\n",
    "from gptchem.evaluator import evaluate_classification\n",
    "from gptchem.extractor import ClassificationExtractor\n",
    "from gptchem.formatter import ClassificationFormatter\n",
    "from gptchem.querier import Querier"
   ]
  },
  {
   "cell_type": "code",
   "execution_count": 3,
   "metadata": {},
   "outputs": [
    {
     "data": {
      "text/html": [
       "<div>\n",
       "<style scoped>\n",
       "    .dataframe tbody tr th:only-of-type {\n",
       "        vertical-align: middle;\n",
       "    }\n",
       "\n",
       "    .dataframe tbody tr th {\n",
       "        vertical-align: top;\n",
       "    }\n",
       "\n",
       "    .dataframe thead th {\n",
       "        text-align: right;\n",
       "    }\n",
       "</style>\n",
       "<table border=\"1\" class=\"dataframe\">\n",
       "  <thead>\n",
       "    <tr style=\"text-align: right;\">\n",
       "      <th></th>\n",
       "      <th>SMILES</th>\n",
       "      <th>rate of thermal isomerisation from Z-E in s-1</th>\n",
       "      <th>Solvent used for thermal isomerisation rates</th>\n",
       "      <th>Z PhotoStationaryState</th>\n",
       "      <th>E PhotoStationaryState</th>\n",
       "      <th>E isomer pi-pi* wavelength in nm</th>\n",
       "      <th>Extinction</th>\n",
       "      <th>E isomer n-pi* wavelength in nm</th>\n",
       "      <th>Extinction coefficient in M-1 cm-1</th>\n",
       "      <th>Z isomer pi-pi* wavelength in nm</th>\n",
       "      <th>...</th>\n",
       "      <th>CAM-B3LYP/6-31G** DFT Z isomer pi-pi* wavelength in nm</th>\n",
       "      <th>CAM-B3LYP/6-31G** DFT Z isomer n-pi* wavelength in nm</th>\n",
       "      <th>BHLYP/6-31G* DFT E isomer pi-pi* wavelength in nm</th>\n",
       "      <th>BHLYP/6-31G* DFT E isomer n-pi* wavelength in nm</th>\n",
       "      <th>BHLYP/6-31G* Z isomer pi-pi* wavelength in nm</th>\n",
       "      <th>BHLYP/6-31G* DFT Z isomer n-pi* wavelength in nm</th>\n",
       "      <th>name</th>\n",
       "      <th>selfies</th>\n",
       "      <th>wavelength_cat</th>\n",
       "      <th>inchi</th>\n",
       "    </tr>\n",
       "  </thead>\n",
       "  <tbody>\n",
       "    <tr>\n",
       "      <th>0</th>\n",
       "      <td>C[N]1C=CC(=N1)N=NC2=CC=CC=C2</td>\n",
       "      <td>2.100000e-07</td>\n",
       "      <td>MeCN</td>\n",
       "      <td>76.0</td>\n",
       "      <td>72.0</td>\n",
       "      <td>310.0</td>\n",
       "      <td>1.67</td>\n",
       "      <td>442.0</td>\n",
       "      <td>0.0373</td>\n",
       "      <td>290.0</td>\n",
       "      <td>...</td>\n",
       "      <td>NaN</td>\n",
       "      <td>NaN</td>\n",
       "      <td>NaN</td>\n",
       "      <td>NaN</td>\n",
       "      <td>NaN</td>\n",
       "      <td>NaN</td>\n",
       "      <td>NaN</td>\n",
       "      <td>[C][NH0][N][=N][C][=Branch1][Ring2][=N][Ring1]...</td>\n",
       "      <td>very small</td>\n",
       "      <td>InChI=1S/C10H10N4/c1-14-8-7-10(13-14)12-11-9-5...</td>\n",
       "    </tr>\n",
       "    <tr>\n",
       "      <th>1</th>\n",
       "      <td>C[N]1C=NC(=N1)N=NC2=CC=CC=C2</td>\n",
       "      <td>3.800000e-07</td>\n",
       "      <td>MeCN</td>\n",
       "      <td>90.0</td>\n",
       "      <td>84.0</td>\n",
       "      <td>310.0</td>\n",
       "      <td>1.87</td>\n",
       "      <td>438.0</td>\n",
       "      <td>0.0505</td>\n",
       "      <td>272.0</td>\n",
       "      <td>...</td>\n",
       "      <td>NaN</td>\n",
       "      <td>NaN</td>\n",
       "      <td>NaN</td>\n",
       "      <td>NaN</td>\n",
       "      <td>NaN</td>\n",
       "      <td>NaN</td>\n",
       "      <td>NaN</td>\n",
       "      <td>[C][NH0][C][=N][C][=Branch1][Ring2][=N][Ring1]...</td>\n",
       "      <td>very small</td>\n",
       "      <td>InChI=1S/C9H9N5/c1-14-7-10-9(13-14)12-11-8-5-3...</td>\n",
       "    </tr>\n",
       "    <tr>\n",
       "      <th>2</th>\n",
       "      <td>C[N]1C=C(C)C(=N1)N=NC2=CC=CC=C2</td>\n",
       "      <td>1.500000e-06</td>\n",
       "      <td>MeCN</td>\n",
       "      <td>96.0</td>\n",
       "      <td>87.0</td>\n",
       "      <td>325.0</td>\n",
       "      <td>1.74</td>\n",
       "      <td>428.0</td>\n",
       "      <td>0.0612</td>\n",
       "      <td>286.0</td>\n",
       "      <td>...</td>\n",
       "      <td>NaN</td>\n",
       "      <td>NaN</td>\n",
       "      <td>NaN</td>\n",
       "      <td>NaN</td>\n",
       "      <td>NaN</td>\n",
       "      <td>NaN</td>\n",
       "      <td>NaN</td>\n",
       "      <td>[C][NH0][C][=C][Branch1][C][C][C][=Branch1][Ri...</td>\n",
       "      <td>very small</td>\n",
       "      <td>InChI=1S/C11H12N4/c1-9-8-15(2)14-11(9)13-12-10...</td>\n",
       "    </tr>\n",
       "    <tr>\n",
       "      <th>3</th>\n",
       "      <td>C[N]1C=C(C=N1)N=NC2=CC=CC=C2</td>\n",
       "      <td>7.600000e-09</td>\n",
       "      <td>MeCN</td>\n",
       "      <td>98.0</td>\n",
       "      <td>70.0</td>\n",
       "      <td>328.0</td>\n",
       "      <td>1.66</td>\n",
       "      <td>417.0</td>\n",
       "      <td>0.0640</td>\n",
       "      <td>275.0</td>\n",
       "      <td>...</td>\n",
       "      <td>256.0</td>\n",
       "      <td>401.0</td>\n",
       "      <td>NaN</td>\n",
       "      <td>NaN</td>\n",
       "      <td>NaN</td>\n",
       "      <td>NaN</td>\n",
       "      <td>NaN</td>\n",
       "      <td>[C][NH0][C][=C][Branch1][Branch1][C][=N][Ring1...</td>\n",
       "      <td>very small</td>\n",
       "      <td>InChI=1S/C10H10N4/c1-14-8-10(7-11-14)13-12-9-5...</td>\n",
       "    </tr>\n",
       "    <tr>\n",
       "      <th>4</th>\n",
       "      <td>C[N]1N=C(C)C(=C1C)N=NC2=CC=CC=C2</td>\n",
       "      <td>7.700000e-07</td>\n",
       "      <td>MeCN</td>\n",
       "      <td>98.0</td>\n",
       "      <td>98.0</td>\n",
       "      <td>335.0</td>\n",
       "      <td>2.27</td>\n",
       "      <td>425.0</td>\n",
       "      <td>0.0963</td>\n",
       "      <td>296.0</td>\n",
       "      <td>...</td>\n",
       "      <td>279.0</td>\n",
       "      <td>449.0</td>\n",
       "      <td>NaN</td>\n",
       "      <td>NaN</td>\n",
       "      <td>NaN</td>\n",
       "      <td>NaN</td>\n",
       "      <td>phenyl-(1,3,5-trimethylpyrazol-4-yl)diazene</td>\n",
       "      <td>[C][NH0][N][=C][Branch1][C][C][C][=Branch1][Br...</td>\n",
       "      <td>very small</td>\n",
       "      <td>InChI=1S/C12H14N4/c1-9-12(10(2)16(3)15-9)14-13...</td>\n",
       "    </tr>\n",
       "  </tbody>\n",
       "</table>\n",
       "<p>5 rows × 37 columns</p>\n",
       "</div>"
      ],
      "text/plain": [
       "                             SMILES  \\\n",
       "0      C[N]1C=CC(=N1)N=NC2=CC=CC=C2   \n",
       "1      C[N]1C=NC(=N1)N=NC2=CC=CC=C2   \n",
       "2   C[N]1C=C(C)C(=N1)N=NC2=CC=CC=C2   \n",
       "3      C[N]1C=C(C=N1)N=NC2=CC=CC=C2   \n",
       "4  C[N]1N=C(C)C(=C1C)N=NC2=CC=CC=C2   \n",
       "\n",
       "   rate of thermal isomerisation from Z-E in s-1  \\\n",
       "0                                   2.100000e-07   \n",
       "1                                   3.800000e-07   \n",
       "2                                   1.500000e-06   \n",
       "3                                   7.600000e-09   \n",
       "4                                   7.700000e-07   \n",
       "\n",
       "  Solvent used for thermal isomerisation rates  Z PhotoStationaryState  \\\n",
       "0                                         MeCN                    76.0   \n",
       "1                                         MeCN                    90.0   \n",
       "2                                         MeCN                    96.0   \n",
       "3                                         MeCN                    98.0   \n",
       "4                                         MeCN                    98.0   \n",
       "\n",
       "   E PhotoStationaryState  E isomer pi-pi* wavelength in nm  Extinction  \\\n",
       "0                    72.0                             310.0        1.67   \n",
       "1                    84.0                             310.0        1.87   \n",
       "2                    87.0                             325.0        1.74   \n",
       "3                    70.0                             328.0        1.66   \n",
       "4                    98.0                             335.0        2.27   \n",
       "\n",
       "   E isomer n-pi* wavelength in nm  Extinction coefficient in M-1 cm-1  \\\n",
       "0                            442.0                              0.0373   \n",
       "1                            438.0                              0.0505   \n",
       "2                            428.0                              0.0612   \n",
       "3                            417.0                              0.0640   \n",
       "4                            425.0                              0.0963   \n",
       "\n",
       "   Z isomer pi-pi* wavelength in nm  ...  \\\n",
       "0                             290.0  ...   \n",
       "1                             272.0  ...   \n",
       "2                             286.0  ...   \n",
       "3                             275.0  ...   \n",
       "4                             296.0  ...   \n",
       "\n",
       "   CAM-B3LYP/6-31G** DFT Z isomer pi-pi* wavelength in nm  \\\n",
       "0                                                NaN        \n",
       "1                                                NaN        \n",
       "2                                                NaN        \n",
       "3                                              256.0        \n",
       "4                                              279.0        \n",
       "\n",
       "   CAM-B3LYP/6-31G** DFT Z isomer n-pi* wavelength in nm  \\\n",
       "0                                                NaN       \n",
       "1                                                NaN       \n",
       "2                                                NaN       \n",
       "3                                              401.0       \n",
       "4                                              449.0       \n",
       "\n",
       "   BHLYP/6-31G* DFT E isomer pi-pi* wavelength in nm  \\\n",
       "0                                                NaN   \n",
       "1                                                NaN   \n",
       "2                                                NaN   \n",
       "3                                                NaN   \n",
       "4                                                NaN   \n",
       "\n",
       "   BHLYP/6-31G* DFT E isomer n-pi* wavelength in nm  \\\n",
       "0                                               NaN   \n",
       "1                                               NaN   \n",
       "2                                               NaN   \n",
       "3                                               NaN   \n",
       "4                                               NaN   \n",
       "\n",
       "  BHLYP/6-31G* Z isomer pi-pi* wavelength in nm  \\\n",
       "0                                           NaN   \n",
       "1                                           NaN   \n",
       "2                                           NaN   \n",
       "3                                           NaN   \n",
       "4                                           NaN   \n",
       "\n",
       "  BHLYP/6-31G* DFT Z isomer n-pi* wavelength in nm  \\\n",
       "0                                              NaN   \n",
       "1                                              NaN   \n",
       "2                                              NaN   \n",
       "3                                              NaN   \n",
       "4                                              NaN   \n",
       "\n",
       "                                          name  \\\n",
       "0                                          NaN   \n",
       "1                                          NaN   \n",
       "2                                          NaN   \n",
       "3                                          NaN   \n",
       "4  phenyl-(1,3,5-trimethylpyrazol-4-yl)diazene   \n",
       "\n",
       "                                             selfies  wavelength_cat  \\\n",
       "0  [C][NH0][N][=N][C][=Branch1][Ring2][=N][Ring1]...      very small   \n",
       "1  [C][NH0][C][=N][C][=Branch1][Ring2][=N][Ring1]...      very small   \n",
       "2  [C][NH0][C][=C][Branch1][C][C][C][=Branch1][Ri...      very small   \n",
       "3  [C][NH0][C][=C][Branch1][Branch1][C][=N][Ring1...      very small   \n",
       "4  [C][NH0][N][=C][Branch1][C][C][C][=Branch1][Br...      very small   \n",
       "\n",
       "                                               inchi  \n",
       "0  InChI=1S/C10H10N4/c1-14-8-7-10(13-14)12-11-9-5...  \n",
       "1  InChI=1S/C9H9N5/c1-14-7-10-9(13-14)12-11-8-5-3...  \n",
       "2  InChI=1S/C11H12N4/c1-9-8-15(2)14-11(9)13-12-10...  \n",
       "3  InChI=1S/C10H10N4/c1-14-8-10(7-11-14)13-12-9-5...  \n",
       "4  InChI=1S/C12H14N4/c1-9-12(10(2)16(3)15-9)14-13...  \n",
       "\n",
       "[5 rows x 37 columns]"
      ]
     },
     "execution_count": 3,
     "metadata": {},
     "output_type": "execute_result"
    }
   ],
   "source": [
    "data = get_photoswitch_data()\n",
    "data.head()"
   ]
  },
  {
   "cell_type": "code",
   "execution_count": 4,
   "metadata": {},
   "outputs": [],
   "source": [
    "formatter = ClassificationFormatter(\n",
    "    representation_column=\"SMILES\",\n",
    "    label_column=\"E isomer pi-pi* wavelength in nm\",\n",
    "    property_name=\"transition wavelength\",\n",
    "    num_classes=2,\n",
    "    qcut=True,\n",
    ")"
   ]
  },
  {
   "cell_type": "code",
   "execution_count": 5,
   "metadata": {},
   "outputs": [
    {
     "data": {
      "text/plain": [
       "gptchem.formatter.ClassificationFormatter(representation_column='SMILES', label_column='E isomer pi-pi* wavelength in nm', property_name='transition wavelength', num_classes=2, qcut=True)"
      ]
     },
     "execution_count": 5,
     "metadata": {},
     "output_type": "execute_result"
    }
   ],
   "source": [
    "formatter"
   ]
  },
  {
   "cell_type": "code",
   "execution_count": 7,
   "metadata": {},
   "outputs": [],
   "source": [
    "formatted = formatter(data)"
   ]
  },
  {
   "cell_type": "code",
   "execution_count": 8,
   "metadata": {},
   "outputs": [
    {
     "data": {
      "text/html": [
       "<div>\n",
       "<style scoped>\n",
       "    .dataframe tbody tr th:only-of-type {\n",
       "        vertical-align: middle;\n",
       "    }\n",
       "\n",
       "    .dataframe tbody tr th {\n",
       "        vertical-align: top;\n",
       "    }\n",
       "\n",
       "    .dataframe thead th {\n",
       "        text-align: right;\n",
       "    }\n",
       "</style>\n",
       "<table border=\"1\" class=\"dataframe\">\n",
       "  <thead>\n",
       "    <tr style=\"text-align: right;\">\n",
       "      <th></th>\n",
       "      <th>prompt</th>\n",
       "      <th>completion</th>\n",
       "      <th>label</th>\n",
       "      <th>representation</th>\n",
       "    </tr>\n",
       "  </thead>\n",
       "  <tbody>\n",
       "    <tr>\n",
       "      <th>0</th>\n",
       "      <td>What is the transition wavelength of C[N]1C=CC...</td>\n",
       "      <td>0@@@</td>\n",
       "      <td>0</td>\n",
       "      <td>C[N]1C=CC(=N1)N=NC2=CC=CC=C2</td>\n",
       "    </tr>\n",
       "    <tr>\n",
       "      <th>1</th>\n",
       "      <td>What is the transition wavelength of C[N]1C=NC...</td>\n",
       "      <td>0@@@</td>\n",
       "      <td>0</td>\n",
       "      <td>C[N]1C=NC(=N1)N=NC2=CC=CC=C2</td>\n",
       "    </tr>\n",
       "    <tr>\n",
       "      <th>2</th>\n",
       "      <td>What is the transition wavelength of C[N]1C=CC...</td>\n",
       "      <td>0@@@</td>\n",
       "      <td>0</td>\n",
       "      <td>C[N]1C=CC(=N1)N=NC2=CC=CC=C2</td>\n",
       "    </tr>\n",
       "    <tr>\n",
       "      <th>3</th>\n",
       "      <td>What is the transition wavelength of C[N]1C=C(...</td>\n",
       "      <td>0@@@</td>\n",
       "      <td>0</td>\n",
       "      <td>C[N]1C=C(C)C(=N1)N=NC2=CC=CC=C2</td>\n",
       "    </tr>\n",
       "    <tr>\n",
       "      <th>4</th>\n",
       "      <td>What is the transition wavelength of C[N]1C=C(...</td>\n",
       "      <td>0@@@</td>\n",
       "      <td>0</td>\n",
       "      <td>C[N]1C=C(C=N1)N=NC2=CC=CC=C2</td>\n",
       "    </tr>\n",
       "  </tbody>\n",
       "</table>\n",
       "</div>"
      ],
      "text/plain": [
       "                                              prompt completion  label  \\\n",
       "0  What is the transition wavelength of C[N]1C=CC...       0@@@      0   \n",
       "1  What is the transition wavelength of C[N]1C=NC...       0@@@      0   \n",
       "2  What is the transition wavelength of C[N]1C=CC...       0@@@      0   \n",
       "3  What is the transition wavelength of C[N]1C=C(...       0@@@      0   \n",
       "4  What is the transition wavelength of C[N]1C=C(...       0@@@      0   \n",
       "\n",
       "                    representation  \n",
       "0     C[N]1C=CC(=N1)N=NC2=CC=CC=C2  \n",
       "1     C[N]1C=NC(=N1)N=NC2=CC=CC=C2  \n",
       "2     C[N]1C=CC(=N1)N=NC2=CC=CC=C2  \n",
       "3  C[N]1C=C(C)C(=N1)N=NC2=CC=CC=C2  \n",
       "4     C[N]1C=C(C=N1)N=NC2=CC=CC=C2  "
      ]
     },
     "execution_count": 8,
     "metadata": {},
     "output_type": "execute_result"
    }
   ],
   "source": [
    "formatted.head()"
   ]
  },
  {
   "cell_type": "markdown",
   "metadata": {},
   "source": [
    "With `qcut=True`, the labels are split into two classes with equal frequency.\n"
   ]
  },
  {
   "cell_type": "code",
   "execution_count": 9,
   "metadata": {},
   "outputs": [
    {
     "data": {
      "text/plain": [
       "0    196\n",
       "1    196\n",
       "Name: label, dtype: int64"
      ]
     },
     "execution_count": 9,
     "metadata": {},
     "output_type": "execute_result"
    }
   ],
   "source": [
    "formatted[\"label\"].value_counts()"
   ]
  },
  {
   "cell_type": "markdown",
   "metadata": {},
   "source": [
    "## Now query the model a couple of times for statistics\n"
   ]
  },
  {
   "cell_type": "markdown",
   "metadata": {},
   "source": [
    "### Run it once manually\n"
   ]
  },
  {
   "cell_type": "code",
   "execution_count": 10,
   "metadata": {},
   "outputs": [],
   "source": [
    "train, test = train_test_split(\n",
    "    formatted, test_size=0.2, random_state=42, stratify=formatted[\"label\"]\n",
    ")"
   ]
  },
  {
   "cell_type": "code",
   "execution_count": 11,
   "metadata": {},
   "outputs": [],
   "source": [
    "querier = Querier(\"ada\")"
   ]
  },
  {
   "cell_type": "code",
   "execution_count": 12,
   "metadata": {},
   "outputs": [
    {
     "data": {
      "text/plain": [
       "gptchem.querier.Querier(modelname='ada', max_tokens=10)"
      ]
     },
     "execution_count": 12,
     "metadata": {},
     "output_type": "execute_result"
    }
   ],
   "source": [
    "querier"
   ]
  },
  {
   "cell_type": "code",
   "execution_count": 13,
   "metadata": {},
   "outputs": [],
   "source": [
    "query_result = querier.query(test)"
   ]
  },
  {
   "cell_type": "code",
   "execution_count": 14,
   "metadata": {},
   "outputs": [
    {
     "data": {
      "text/plain": [
       "{'choices': ['\\n\\nAnswer:\\n\\nThe transition wavelength of',\n",
       "  '\\n\\nAnswer:\\n\\nThe transition wavelength of',\n",
       "  '\\n\\nThe transition wavelength of OCC%25',\n",
       "  '\\n\\nAnswer:\\n\\nThe transition wavelength of',\n",
       "  '\\n\\nA. 1.5 nm\\n\\n',\n",
       "  '\\n\\nAnswer:\\n\\nThe transition wavelength of',\n",
       "  '\\n\\nA.\\n\\nB.\\n\\n',\n",
       "  '\\n\\nAnswer:\\n\\nThe transition wavelength of',\n",
       "  '\\n\\nAnswer:\\n\\nThe transition wavelength of',\n",
       "  '\\n\\n#\\n\\n#\\n\\n#\\n',\n",
       "  '?C%11C%10C%10',\n",
       "  '\\n\\nA.\\n\\nB.\\n\\n',\n",
       "  '\\n\\nAnswer:\\n\\nThe transition wavelength of',\n",
       "  '\\n\\nA.\\n\\nB.\\n\\n',\n",
       "  '\\n\\nAnswer:\\n\\nThe transition wavelength of',\n",
       "  '?\\n\\nThe transition wavelength of CCN(',\n",
       "  '?C=C7?C=C7',\n",
       "  '\\n\\nA. [H]C1=',\n",
       "  '?##?##?##?##?##',\n",
       "  '?##?##?##?##?##',\n",
       "  '\\n\\nAnswer:\\n\\nThe transition wavelength of',\n",
       "  '\\n\\nAnswer:\\n\\nThe transition wavelength of',\n",
       "  '\\n\\nAnswer:\\n\\nThe transition wavelength of',\n",
       "  '\\n\\nAnswer:\\n\\nCC(C=',\n",
       "  '\\n\\nAnswer:\\n\\nThe transition wavelength of',\n",
       "  '\\n\\nThe transition wavelength of OC%38=',\n",
       "  '\\n\\nAnswer:\\n\\nThe transition wavelength of',\n",
       "  '\\n\\nA. 5.5 nm\\n\\n',\n",
       "  '\\n\\nAnswer:\\n\\nCC(C=',\n",
       "  '\\n\\nA. 1.5 nm\\n\\n',\n",
       "  '\\n\\nAnswer:\\n\\nCC(C=',\n",
       "  '\\n\\nA. 1.5 nm\\n\\n',\n",
       "  '\\n\\nAnswer:\\n\\nThe transition wavelength of',\n",
       "  '[N+]([O-])=O',\n",
       "  '\\n\\nA. 1.5 nm\\n\\n',\n",
       "  '\\n\\nAnswer:\\n\\nThe transition wavelength of',\n",
       "  '\\n\\nThe transition wavelength of OC%18=',\n",
       "  '\\n\\nAnswer:\\n\\nThe transition wavelength of',\n",
       "  '\\n\\nA.\\n\\nB.\\n\\n',\n",
       "  '\\n\\n[H]C%22=CC',\n",
       "  '\\n\\nA.\\n\\nB.\\n\\n',\n",
       "  '\\n\\nAnswer:\\n\\nC=C1',\n",
       "  '\\n\\nAnswer:\\n\\nThe transition wavelength of',\n",
       "  '\\n\\nAnswer:\\n\\nThe transition wavelength of',\n",
       "  '\\n\\nAnswer:\\n\\nThe transition wavelength of',\n",
       "  '\\n\\nA.\\n\\nB.\\n\\n',\n",
       "  '\\n\\nAnswer:\\n\\nCC=CC=',\n",
       "  '?##\\n\\nThe transition wavelength of CCN',\n",
       "  '\\n\\nAnswer:\\n\\nThe transition wavelength of',\n",
       "  '\\n\\nAnswer:\\n\\nThe transition wavelength of',\n",
       "  '\\n\\nAnswer:\\n\\nThe transition wavelength of',\n",
       "  '\\n\\nThe transition wavelength of O=[N+',\n",
       "  '\\n\\nAnswer:\\n\\nThe transition wavelength of',\n",
       "  '\\n\\nA.\\n\\nB.\\n\\n',\n",
       "  '\\n\\nAnswer:\\n\\nThe transition wavelength of',\n",
       "  '?##?##?##?##?##',\n",
       "  '\\n\\nA.\\n\\nB.\\n\\n',\n",
       "  '\\n\\nA.\\n\\nB.\\n\\n',\n",
       "  '\\n\\nThe transition wavelength of O=C(',\n",
       "  '\\n\\nAnswer:\\n\\nThe transition wavelength of',\n",
       "  '\\n\\nAnswer:\\n\\nThe transition wavelength of',\n",
       "  '?##?##?##?##?##',\n",
       "  '\\n\\nAnswer:\\n\\nThe transition wavelength of',\n",
       "  '\\n\\nAnswer:\\n\\nThe transition wavelength of',\n",
       "  '\\n\\nAnswer:\\n\\nCCN(CC',\n",
       "  '\\n\\nThe transition wavelength of FC(C=',\n",
       "  '\\n\\nAnswer:\\n\\nThe transition wavelength of',\n",
       "  '\\n\\nAnswer:\\n\\nThe transition wavelength of',\n",
       "  '\\n\\nThe transition wavelength of N#CC1',\n",
       "  '\\n\\nAnswer:\\n\\nThe transition wavelength of',\n",
       "  '\\n\\nThe transition wavelength of OC%20=',\n",
       "  '\\n\\nThe transition wavelength of OC%14=',\n",
       "  '\\n\\nThe transition wavelength of O=[N+',\n",
       "  '\\n\\nAnswer:\\n\\nThe transition wavelength of',\n",
       "  '\\n\\nThe answer is:\\n\\nCC%',\n",
       "  '\\n\\nAnswer:\\n\\nCC1=CC',\n",
       "  '\\n\\nThe transition wavelength of CCN(CCC',\n",
       "  '\\n\\nAnswer:\\n\\nThe transition wavelength of',\n",
       "  '\\n\\nThe transition wavelength of O=[N+'],\n",
       " 'logprobs': [None,\n",
       "  None,\n",
       "  None,\n",
       "  None,\n",
       "  None,\n",
       "  None,\n",
       "  None,\n",
       "  None,\n",
       "  None,\n",
       "  None,\n",
       "  None,\n",
       "  None,\n",
       "  None,\n",
       "  None,\n",
       "  None,\n",
       "  None,\n",
       "  None,\n",
       "  None,\n",
       "  None,\n",
       "  None,\n",
       "  None,\n",
       "  None,\n",
       "  None,\n",
       "  None,\n",
       "  None,\n",
       "  None,\n",
       "  None,\n",
       "  None,\n",
       "  None,\n",
       "  None,\n",
       "  None,\n",
       "  None,\n",
       "  None,\n",
       "  None,\n",
       "  None,\n",
       "  None,\n",
       "  None,\n",
       "  None,\n",
       "  None,\n",
       "  None,\n",
       "  None,\n",
       "  None,\n",
       "  None,\n",
       "  None,\n",
       "  None,\n",
       "  None,\n",
       "  None,\n",
       "  None,\n",
       "  None,\n",
       "  None,\n",
       "  None,\n",
       "  None,\n",
       "  None,\n",
       "  None,\n",
       "  None,\n",
       "  None,\n",
       "  None,\n",
       "  None,\n",
       "  None,\n",
       "  None,\n",
       "  None,\n",
       "  None,\n",
       "  None,\n",
       "  None,\n",
       "  None,\n",
       "  None,\n",
       "  None,\n",
       "  None,\n",
       "  None,\n",
       "  None,\n",
       "  None,\n",
       "  None,\n",
       "  None,\n",
       "  None,\n",
       "  None,\n",
       "  None,\n",
       "  None,\n",
       "  None,\n",
       "  None],\n",
       " 'model': 'ada'}"
      ]
     },
     "execution_count": 14,
     "metadata": {},
     "output_type": "execute_result"
    }
   ],
   "source": [
    "query_result"
   ]
  },
  {
   "cell_type": "code",
   "execution_count": 15,
   "metadata": {},
   "outputs": [],
   "source": [
    "extractor = ClassificationExtractor()"
   ]
  },
  {
   "cell_type": "code",
   "execution_count": 17,
   "metadata": {},
   "outputs": [],
   "source": [
    "predictions = extractor(query_result)"
   ]
  },
  {
   "cell_type": "code",
   "execution_count": 18,
   "metadata": {},
   "outputs": [
    {
     "data": {
      "text/plain": [
       "(#79) [None,None,None,None,None,None,None,None,None,None...]"
      ]
     },
     "execution_count": 18,
     "metadata": {},
     "output_type": "execute_result"
    }
   ],
   "source": [
    "predictions"
   ]
  },
  {
   "cell_type": "code",
   "execution_count": 26,
   "metadata": {},
   "outputs": [
    {
     "name": "stderr",
     "output_type": "stream",
     "text": [
      "2023-01-08 13:48:01.135 | WARNING  | gptchem.evaluator:evaluate_classification:41 - No valid predictions found.\n"
     ]
    },
    {
     "data": {
      "text/plain": [
       "{'accuracy': 0.0,\n",
       " 'acc_macro': 0.3333333333333333,\n",
       " 'racc': 0.0,\n",
       " 'kappa': 0.0,\n",
       " 'confusion_matrix': pycm.ConfusionMatrix(classes: ['0', '1', 'None']),\n",
       " 'f1_macro': 0.0,\n",
       " 'f1_micro': 0.0,\n",
       " 'frac_valid': 0.0,\n",
       " 'all_y_true': (#79) [0,1,0,0,1,1,0,1,1,1...],\n",
       " 'all_y_pred': (#79) [None,None,None,None,None,None,None,None,None,None...],\n",
       " 'valid_indices': [],\n",
       " 'might_have_rounded_floats': False}"
      ]
     },
     "execution_count": 26,
     "metadata": {},
     "output_type": "execute_result"
    }
   ],
   "source": [
    "evaluate_classification(test[\"label\"], predictions)"
   ]
  },
  {
   "cell_type": "markdown",
   "metadata": {},
   "source": [
    "### Now, run it a couple of times to get statistics\n"
   ]
  },
  {
   "cell_type": "code",
   "execution_count": 30,
   "metadata": {},
   "outputs": [],
   "source": [
    "def split_query_eval(num_rounds: int = 10) -> pd.DataFrame:\n",
    "    collected_metrics = []\n",
    "    for i in range(num_rounds):\n",
    "        train, test = train_test_split(\n",
    "            formatted, test_size=0.2, random_state=i, stratify=formatted[\"label\"]\n",
    "        )\n",
    "        query_result = querier.query(test)\n",
    "        predictions = extractor(query_result)\n",
    "        metrics = evaluate_classification(test[\"label\"], predictions)\n",
    "        collected_metrics.append(metrics)\n",
    "\n",
    "    return pd.DataFrame(collected_metrics)"
   ]
  },
  {
   "cell_type": "code",
   "execution_count": 31,
   "metadata": {},
   "outputs": [
    {
     "name": "stderr",
     "output_type": "stream",
     "text": [
      "2023-01-08 13:55:37.283 | WARNING  | gptchem.evaluator:evaluate_classification:42 - No valid predictions found.\n",
      "2023-01-08 13:55:38.716 | WARNING  | gptchem.evaluator:evaluate_classification:42 - No valid predictions found.\n",
      "2023-01-08 13:55:40.346 | WARNING  | gptchem.evaluator:evaluate_classification:42 - No valid predictions found.\n",
      "2023-01-08 13:55:43.114 | WARNING  | gptchem.evaluator:evaluate_classification:42 - No valid predictions found.\n",
      "2023-01-08 13:55:44.392 | WARNING  | gptchem.evaluator:evaluate_classification:42 - No valid predictions found.\n",
      "2023-01-08 13:56:36.020 | WARNING  | gptchem.evaluator:evaluate_classification:42 - No valid predictions found.\n",
      "2023-01-08 13:56:37.542 | WARNING  | gptchem.evaluator:evaluate_classification:42 - No valid predictions found.\n",
      "2023-01-08 13:56:39.027 | WARNING  | gptchem.evaluator:evaluate_classification:42 - No valid predictions found.\n",
      "2023-01-08 13:56:40.595 | WARNING  | gptchem.evaluator:evaluate_classification:42 - No valid predictions found.\n",
      "2023-01-08 13:56:43.370 | WARNING  | gptchem.evaluator:evaluate_classification:42 - No valid predictions found.\n"
     ]
    }
   ],
   "source": [
    "collected_metrics = split_query_eval()"
   ]
  },
  {
   "cell_type": "markdown",
   "metadata": {},
   "source": [
    "Already the log messages show that in none of the 10 rounds we get a valid prediction."
   ]
  },
  {
   "cell_type": "code",
   "execution_count": 33,
   "metadata": {},
   "outputs": [
    {
     "data": {
      "text/html": [
       "<div>\n",
       "<style scoped>\n",
       "    .dataframe tbody tr th:only-of-type {\n",
       "        vertical-align: middle;\n",
       "    }\n",
       "\n",
       "    .dataframe tbody tr th {\n",
       "        vertical-align: top;\n",
       "    }\n",
       "\n",
       "    .dataframe thead th {\n",
       "        text-align: right;\n",
       "    }\n",
       "</style>\n",
       "<table border=\"1\" class=\"dataframe\">\n",
       "  <thead>\n",
       "    <tr style=\"text-align: right;\">\n",
       "      <th></th>\n",
       "      <th>accuracy</th>\n",
       "      <th>acc_macro</th>\n",
       "      <th>racc</th>\n",
       "      <th>kappa</th>\n",
       "      <th>confusion_matrix</th>\n",
       "      <th>f1_macro</th>\n",
       "      <th>f1_micro</th>\n",
       "      <th>frac_valid</th>\n",
       "      <th>all_y_true</th>\n",
       "      <th>all_y_pred</th>\n",
       "      <th>valid_indices</th>\n",
       "      <th>might_have_rounded_floats</th>\n",
       "    </tr>\n",
       "  </thead>\n",
       "  <tbody>\n",
       "    <tr>\n",
       "      <th>0</th>\n",
       "      <td>0.0</td>\n",
       "      <td>0.333333</td>\n",
       "      <td>0.0</td>\n",
       "      <td>0.0</td>\n",
       "      <td>((0, {'0': 0, '1': 0, 'None': 40}), (1, {'0': ...</td>\n",
       "      <td>0.0</td>\n",
       "      <td>0.0</td>\n",
       "      <td>0.0</td>\n",
       "      <td>[1, 1, 1, 0, 1, 1, 1, 0, 1, 0, 0, 1, 0, 0, 1, ...</td>\n",
       "      <td>[None, None, None, None, None, None, None, Non...</td>\n",
       "      <td>[]</td>\n",
       "      <td>False</td>\n",
       "    </tr>\n",
       "    <tr>\n",
       "      <th>1</th>\n",
       "      <td>0.0</td>\n",
       "      <td>0.333333</td>\n",
       "      <td>0.0</td>\n",
       "      <td>0.0</td>\n",
       "      <td>((0, {'0': 0, '1': 0, 'None': 39}), (1, {'0': ...</td>\n",
       "      <td>0.0</td>\n",
       "      <td>0.0</td>\n",
       "      <td>0.0</td>\n",
       "      <td>[0, 0, 0, 0, 0, 1, 0, 1, 1, 0, 0, 0, 0, 0, 0, ...</td>\n",
       "      <td>[None, None, None, None, None, None, None, Non...</td>\n",
       "      <td>[]</td>\n",
       "      <td>False</td>\n",
       "    </tr>\n",
       "    <tr>\n",
       "      <th>2</th>\n",
       "      <td>0.0</td>\n",
       "      <td>0.333333</td>\n",
       "      <td>0.0</td>\n",
       "      <td>0.0</td>\n",
       "      <td>((0, {'0': 0, '1': 0, 'None': 40}), (1, {'0': ...</td>\n",
       "      <td>0.0</td>\n",
       "      <td>0.0</td>\n",
       "      <td>0.0</td>\n",
       "      <td>[1, 0, 0, 1, 1, 1, 0, 1, 0, 0, 0, 1, 0, 0, 0, ...</td>\n",
       "      <td>[None, None, None, None, None, None, None, Non...</td>\n",
       "      <td>[]</td>\n",
       "      <td>False</td>\n",
       "    </tr>\n",
       "    <tr>\n",
       "      <th>3</th>\n",
       "      <td>0.0</td>\n",
       "      <td>0.333333</td>\n",
       "      <td>0.0</td>\n",
       "      <td>0.0</td>\n",
       "      <td>((0, {'0': 0, '1': 0, 'None': 40}), (1, {'0': ...</td>\n",
       "      <td>0.0</td>\n",
       "      <td>0.0</td>\n",
       "      <td>0.0</td>\n",
       "      <td>[1, 0, 1, 1, 1, 1, 0, 0, 0, 0, 0, 1, 1, 0, 0, ...</td>\n",
       "      <td>[None, None, None, None, None, None, None, Non...</td>\n",
       "      <td>[]</td>\n",
       "      <td>False</td>\n",
       "    </tr>\n",
       "    <tr>\n",
       "      <th>4</th>\n",
       "      <td>0.0</td>\n",
       "      <td>0.333333</td>\n",
       "      <td>0.0</td>\n",
       "      <td>0.0</td>\n",
       "      <td>((0, {'0': 0, '1': 0, 'None': 40}), (1, {'0': ...</td>\n",
       "      <td>0.0</td>\n",
       "      <td>0.0</td>\n",
       "      <td>0.0</td>\n",
       "      <td>[0, 1, 0, 1, 0, 1, 0, 1, 0, 1, 1, 0, 1, 0, 1, ...</td>\n",
       "      <td>[None, None, None, None, None, None, None, Non...</td>\n",
       "      <td>[]</td>\n",
       "      <td>False</td>\n",
       "    </tr>\n",
       "  </tbody>\n",
       "</table>\n",
       "</div>"
      ],
      "text/plain": [
       "   accuracy  acc_macro  racc  kappa  \\\n",
       "0       0.0   0.333333   0.0    0.0   \n",
       "1       0.0   0.333333   0.0    0.0   \n",
       "2       0.0   0.333333   0.0    0.0   \n",
       "3       0.0   0.333333   0.0    0.0   \n",
       "4       0.0   0.333333   0.0    0.0   \n",
       "\n",
       "                                    confusion_matrix  f1_macro  f1_micro  \\\n",
       "0  ((0, {'0': 0, '1': 0, 'None': 40}), (1, {'0': ...       0.0       0.0   \n",
       "1  ((0, {'0': 0, '1': 0, 'None': 39}), (1, {'0': ...       0.0       0.0   \n",
       "2  ((0, {'0': 0, '1': 0, 'None': 40}), (1, {'0': ...       0.0       0.0   \n",
       "3  ((0, {'0': 0, '1': 0, 'None': 40}), (1, {'0': ...       0.0       0.0   \n",
       "4  ((0, {'0': 0, '1': 0, 'None': 40}), (1, {'0': ...       0.0       0.0   \n",
       "\n",
       "   frac_valid                                         all_y_true  \\\n",
       "0         0.0  [1, 1, 1, 0, 1, 1, 1, 0, 1, 0, 0, 1, 0, 0, 1, ...   \n",
       "1         0.0  [0, 0, 0, 0, 0, 1, 0, 1, 1, 0, 0, 0, 0, 0, 0, ...   \n",
       "2         0.0  [1, 0, 0, 1, 1, 1, 0, 1, 0, 0, 0, 1, 0, 0, 0, ...   \n",
       "3         0.0  [1, 0, 1, 1, 1, 1, 0, 0, 0, 0, 0, 1, 1, 0, 0, ...   \n",
       "4         0.0  [0, 1, 0, 1, 0, 1, 0, 1, 0, 1, 1, 0, 1, 0, 1, ...   \n",
       "\n",
       "                                          all_y_pred valid_indices  \\\n",
       "0  [None, None, None, None, None, None, None, Non...            []   \n",
       "1  [None, None, None, None, None, None, None, Non...            []   \n",
       "2  [None, None, None, None, None, None, None, Non...            []   \n",
       "3  [None, None, None, None, None, None, None, Non...            []   \n",
       "4  [None, None, None, None, None, None, None, Non...            []   \n",
       "\n",
       "   might_have_rounded_floats  \n",
       "0                      False  \n",
       "1                      False  \n",
       "2                      False  \n",
       "3                      False  \n",
       "4                      False  "
      ]
     },
     "execution_count": 33,
     "metadata": {},
     "output_type": "execute_result"
    }
   ],
   "source": [
    "collected_metrics.head()"
   ]
  },
  {
   "cell_type": "code",
   "execution_count": 34,
   "metadata": {},
   "outputs": [
    {
     "data": {
      "text/plain": [
       "0.0"
      ]
     },
     "execution_count": 34,
     "metadata": {},
     "output_type": "execute_result"
    }
   ],
   "source": [
    "collected_metrics[\"accuracy\"].mean()"
   ]
  },
  {
   "cell_type": "code",
   "execution_count": null,
   "metadata": {},
   "outputs": [],
   "source": []
  }
 ],
 "metadata": {
  "kernelspec": {
   "display_name": "Python 3 (ipykernel)",
   "language": "python",
   "name": "python3"
  },
  "language_info": {
   "codemirror_mode": {
    "name": "ipython",
    "version": 3
   },
   "file_extension": ".py",
   "mimetype": "text/x-python",
   "name": "python",
   "nbconvert_exporter": "python",
   "pygments_lexer": "ipython3",
   "version": "3.9.15"
  },
  "vscode": {
   "interpreter": {
    "hash": "2f3b9074e5baa1438c27e2ea813f7f53b7516c83bd70840b6d64eae6820ee5df"
   }
  }
 },
 "nbformat": 4,
 "nbformat_minor": 4
}

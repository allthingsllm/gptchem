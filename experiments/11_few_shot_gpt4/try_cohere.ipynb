{
 "cells": [
  {
   "cell_type": "code",
   "execution_count": 1,
   "metadata": {},
   "outputs": [],
   "source": [
    "%load_ext autoreload\n",
    "%autoreload 2"
   ]
  },
  {
   "cell_type": "code",
   "execution_count": 16,
   "metadata": {},
   "outputs": [],
   "source": [
    "from gptchem.extractor import FewShotClassificationExtractor\n",
    "from gptchem.formatter import FewShotFormatter\n",
    "from gptchem.data import get_photoswitch_data\n",
    "\n",
    "import pandas as pd \n",
    "import numpy as np\n",
    "\n",
    "from sklearn.model_selection import train_test_split\n",
    "\n",
    "from langchain.llms import Anthropic"
   ]
  },
  {
   "cell_type": "code",
   "execution_count": 12,
   "metadata": {},
   "outputs": [],
   "source": [
    "num_classes = 2\n",
    "train_size = 20\n",
    "seed = 42\n",
    "max_test_size = 50\n",
    "representation = 'SMILES'"
   ]
  },
  {
   "cell_type": "code",
   "execution_count": 8,
   "metadata": {},
   "outputs": [],
   "source": [
    "data = get_photoswitch_data()\n",
    "data = data.dropna(subset=[\"E isomer pi-pi* wavelength in nm\"])\n",
    "data[\"binned\"] = pd.qcut(\n",
    "    data[\"E isomer pi-pi* wavelength in nm\"], num_classes, labels=np.arange(num_classes)\n",
    ")\n",
    "train, test = train_test_split(\n",
    "    data, train_size=train_size, random_state=seed, stratify=data[\"binned\"]\n",
    ")"
   ]
  },
  {
   "cell_type": "code",
   "execution_count": 9,
   "metadata": {},
   "outputs": [],
   "source": [
    "data = get_photoswitch_data()\n",
    "data = data.dropna(subset=[\"E isomer pi-pi* wavelength in nm\"])\n",
    "data[\"binned\"] = pd.qcut(\n",
    "    data[\"E isomer pi-pi* wavelength in nm\"], num_classes, labels=np.arange(num_classes)\n",
    ")\n",
    "train, test = train_test_split(\n",
    "    data, train_size=train_size, random_state=seed, stratify=data[\"binned\"]\n",
    ")"
   ]
  },
  {
   "cell_type": "code",
   "execution_count": 13,
   "metadata": {},
   "outputs": [],
   "source": [
    "formatter = FewShotFormatter(\n",
    "    train,\n",
    "    property_name=\"transition wavelength\",\n",
    "    representation_column=representation,\n",
    "    label_column=\"binned\",\n",
    ")"
   ]
  },
  {
   "cell_type": "code",
   "execution_count": 54,
   "metadata": {},
   "outputs": [],
   "source": [
    "formatter._PREFIX = \"You are a highly intelligent chemisty question answering bot that answers questions about {property}. Answer by simply returning only 0 or 1, no other text is necessary.\""
   ]
  },
  {
   "cell_type": "code",
   "execution_count": 55,
   "metadata": {},
   "outputs": [],
   "source": [
    "test = test.sample(min(len(test), max_test_size), random_state=seed)\n",
    "formatted = formatter(test)"
   ]
  },
  {
   "cell_type": "code",
   "execution_count": 56,
   "metadata": {},
   "outputs": [],
   "source": [
    "llm = Anthropic(anthropic_api_key='sk-PxG6E4m8pVJbFXGutrSAe1WB68sNYz3uI8fB9wzfiA-Z1OeqUyFm5F5yx3k34i4xyNyrmY8WgXnoChH-Rx-_mQ', temperature=0)"
   ]
  },
  {
   "cell_type": "code",
   "execution_count": 57,
   "metadata": {},
   "outputs": [
    {
     "data": {
      "text/plain": [
       "'\\nQ: OC%42=C%43N=CC=CC%43=C(/N=N/C%44=NC%45=CC=CC=C%45N%44)C=C%42\\nA: 0'"
      ]
     },
     "execution_count": 57,
     "metadata": {},
     "output_type": "execute_result"
    }
   ],
   "source": [
    "llm(formatted.iloc[0]['prompt'])"
   ]
  },
  {
   "cell_type": "code",
   "execution_count": 58,
   "metadata": {},
   "outputs": [],
   "source": [
    "extractor = FewShotClassificationExtractor()"
   ]
  },
  {
   "cell_type": "code",
   "execution_count": 59,
   "metadata": {},
   "outputs": [],
   "source": [
    "pred = '\\nQ: C1(/N=N/C2=CC=NN2)=CC=NN1\\nA: 0\\n\\nQ: Cn1c(C)c(c2c1cccc2)N=Nc1nncs1\\nA: 1\\n\\nQ: O=[N+]([O-])C1=CC(/N=N/C2=CC=CC=C2)=CC=C1\\nA: 0\\n\\nQ: [H]C1=CC([N+]([O-])=O)=CC(C#N)=C1/N=N/C2=CC([H])=C(C=C2[H])N(CC)CC\\nA: 1\\n\\nQ: Cc1[nH]c2c(c1N=Nc1nncs1)cccc2\\nA: 1\\n\\nQ: CC(C=C(N(CCC#N)CCO)C=C1)=C1/N=N/C2=CC=CC=C2\\nA: 1\\n\\nQ: BrC1=CC=C(/N=N/C2=CC=CC=C2'"
   ]
  },
  {
   "cell_type": "code",
   "execution_count": 60,
   "metadata": {},
   "outputs": [
    {
     "name": "stdout",
     "output_type": "stream",
     "text": [
      "0 1\n",
      "0 1\n",
      "1 1\n",
      "0 0\n",
      "1 1\n",
      "1 1\n",
      "1 1\n",
      "1 1\n",
      "1 0\n",
      "1 1\n",
      "1 1\n"
     ]
    }
   ],
   "source": [
    "for i, row in formatted.iterrows():\n",
    "    if i > 10:\n",
    "        break\n",
    "    pred = llm(row['prompt'])\n",
    "\n",
    "    extracted = extractor.extract(pred.replace(row['representation'], ''))\n",
    "    print(extracted, row['label'])"
   ]
  },
  {
   "cell_type": "code",
   "execution_count": null,
   "metadata": {},
   "outputs": [],
   "source": []
  }
 ],
 "metadata": {
  "kernelspec": {
   "display_name": "gptchem",
   "language": "python",
   "name": "python3"
  },
  "language_info": {
   "codemirror_mode": {
    "name": "ipython",
    "version": 3
   },
   "file_extension": ".py",
   "mimetype": "text/x-python",
   "name": "python",
   "nbconvert_exporter": "python",
   "pygments_lexer": "ipython3",
   "version": "3.9.16"
  },
  "orig_nbformat": 4
 },
 "nbformat": 4,
 "nbformat_minor": 2
}

{
 "cells": [
  {
   "cell_type": "code",
   "execution_count": 1,
   "metadata": {},
   "outputs": [],
   "source": [
    "%load_ext autoreload\n",
    "%autoreload 2"
   ]
  },
  {
   "cell_type": "code",
   "execution_count": 21,
   "metadata": {},
   "outputs": [],
   "source": [
    "import numpy as np\n",
    "import pandas as pd\n",
    "from sklearn.model_selection import train_test_split\n",
    "\n",
    "from gptchem.data import get_photoswitch_data\n",
    "from gptchem.evaluator import evaluate_classification\n",
    "from gptchem.gpt_classifier import DifficultNGramClassifier, NGramGPTClassifier\n",
    "from gptchem.tuner import Tuner"
   ]
  },
  {
   "cell_type": "code",
   "execution_count": 3,
   "metadata": {},
   "outputs": [],
   "source": [
    "data = get_photoswitch_data()\n",
    "data = data.dropna(subset=[\"E isomer pi-pi* wavelength in nm\", \"name\"])"
   ]
  },
  {
   "cell_type": "code",
   "execution_count": 6,
   "metadata": {},
   "outputs": [],
   "source": [
    "data[\"binned\"] = pd.qcut(data[\"E isomer pi-pi* wavelength in nm\"], 2, labels=np.arange(2))"
   ]
  },
  {
   "cell_type": "code",
   "execution_count": 7,
   "metadata": {},
   "outputs": [],
   "source": [
    "classifier = NGramGPTClassifier(\n",
    "    property_name=\"transition wavelength\",\n",
    "    tuner=Tuner(n_epochs=8, learning_rate_multiplier=0.02, wandb_sync=False),\n",
    ")"
   ]
  },
  {
   "cell_type": "code",
   "execution_count": 16,
   "metadata": {},
   "outputs": [],
   "source": [
    "train, test = train_test_split(data, train_size=50, random_state=0, stratify=data[\"binned\"])"
   ]
  },
  {
   "cell_type": "code",
   "execution_count": 17,
   "metadata": {},
   "outputs": [
    {
     "name": "stderr",
     "output_type": "stream",
     "text": [
      "Upload progress: 100%|██████████| 11.9k/11.9k [00:00<00:00, 21.3Mit/s]\n"
     ]
    },
    {
     "name": "stdout",
     "output_type": "stream",
     "text": [
      "Uploaded file from /Users/kevinmaikjablonka/git/kjappelbaum/gptchem/experiments/13_gpt_ngram/out/20230331_154659/train.jsonl: file-PV5sorRxXHzm7XeMbJ25miIv\n"
     ]
    }
   ],
   "source": [
    "classifier.fit(train[\"SMILES\"].values, train[\"binned\"].values)"
   ]
  },
  {
   "cell_type": "code",
   "execution_count": 18,
   "metadata": {},
   "outputs": [],
   "source": [
    "predictions = classifier.predict(test[\"SMILES\"].values)"
   ]
  },
  {
   "cell_type": "code",
   "execution_count": 19,
   "metadata": {},
   "outputs": [],
   "source": [
    "cm = evaluate_classification(test[\"binned\"].values, predictions)"
   ]
  },
  {
   "cell_type": "code",
   "execution_count": null,
   "metadata": {},
   "outputs": [],
   "source": []
  },
  {
   "cell_type": "code",
   "execution_count": 20,
   "metadata": {},
   "outputs": [
    {
     "data": {
      "text/plain": [
       "{'accuracy': 0.7368421052631579,\n",
       " 'acc_macro': 0.7368421052631579,\n",
       " 'racc': 0.5,\n",
       " 'kappa': 0.4736842105263157,\n",
       " 'confusion_matrix': pycm.ConfusionMatrix(classes: [0, 1]),\n",
       " 'f1_macro': 0.7368421052631579,\n",
       " 'f1_micro': 0.7368421052631579,\n",
       " 'frac_valid': 1.0,\n",
       " 'all_y_true': (#38) [1,1,1,0,0,0,0,0,0,1...],\n",
       " 'all_y_pred': (#38) [1,1,1,0,0,0,0,1,0,1...],\n",
       " 'valid_indices': [0,\n",
       "  1,\n",
       "  2,\n",
       "  3,\n",
       "  4,\n",
       "  5,\n",
       "  6,\n",
       "  7,\n",
       "  8,\n",
       "  9,\n",
       "  10,\n",
       "  11,\n",
       "  12,\n",
       "  13,\n",
       "  14,\n",
       "  15,\n",
       "  16,\n",
       "  17,\n",
       "  18,\n",
       "  19,\n",
       "  20,\n",
       "  21,\n",
       "  22,\n",
       "  23,\n",
       "  24,\n",
       "  25,\n",
       "  26,\n",
       "  27,\n",
       "  28,\n",
       "  29,\n",
       "  30,\n",
       "  31,\n",
       "  32,\n",
       "  33,\n",
       "  34,\n",
       "  35,\n",
       "  36,\n",
       "  37],\n",
       " 'might_have_rounded_floats': False}"
      ]
     },
     "execution_count": 20,
     "metadata": {},
     "output_type": "execute_result"
    }
   ],
   "source": [
    "cm"
   ]
  },
  {
   "cell_type": "code",
   "execution_count": 23,
   "metadata": {},
   "outputs": [],
   "source": [
    "classifier_2 = DifficultNGramClassifier(\n",
    "    property_name=\"transition wavelength\",\n",
    "    tuner=Tuner(n_epochs=8, learning_rate_multiplier=0.02, wandb_sync=False),\n",
    ")"
   ]
  },
  {
   "cell_type": "code",
   "execution_count": 24,
   "metadata": {},
   "outputs": [
    {
     "name": "stderr",
     "output_type": "stream",
     "text": [
      "Upload progress: 100%|██████████| 10.2k/10.2k [00:00<00:00, 13.6Mit/s]\n"
     ]
    },
    {
     "name": "stdout",
     "output_type": "stream",
     "text": [
      "Uploaded file from /Users/kevinmaikjablonka/git/kjappelbaum/gptchem/experiments/13_gpt_ngram/out/20230331_163745/train.jsonl: file-Ym6LW2mJNK3joNGWrV8Sr6o9\n"
     ]
    }
   ],
   "source": [
    "classifier_2.fit(train[\"SMILES\"].values, train[\"binned\"].values)"
   ]
  },
  {
   "cell_type": "code",
   "execution_count": 25,
   "metadata": {},
   "outputs": [],
   "source": [
    "predictions_2 = classifier_2.predict(test[\"SMILES\"].values)"
   ]
  },
  {
   "cell_type": "code",
   "execution_count": 26,
   "metadata": {},
   "outputs": [],
   "source": [
    "cm_2 = evaluate_classification(test[\"binned\"].values, predictions_2)"
   ]
  },
  {
   "cell_type": "code",
   "execution_count": 27,
   "metadata": {},
   "outputs": [
    {
     "data": {
      "text/plain": [
       "{'accuracy': 0.7105263157894737,\n",
       " 'acc_macro': 0.7105263157894737,\n",
       " 'racc': 0.5,\n",
       " 'kappa': 0.42105263157894735,\n",
       " 'confusion_matrix': pycm.ConfusionMatrix(classes: [0, 1]),\n",
       " 'f1_macro': 0.7054263565891472,\n",
       " 'f1_micro': 0.7105263157894737,\n",
       " 'frac_valid': 1.0,\n",
       " 'all_y_true': (#38) [1,1,1,0,0,0,0,0,0,1...],\n",
       " 'all_y_pred': (#38) [1,1,1,0,0,0,1,1,0,1...],\n",
       " 'valid_indices': [0,\n",
       "  1,\n",
       "  2,\n",
       "  3,\n",
       "  4,\n",
       "  5,\n",
       "  6,\n",
       "  7,\n",
       "  8,\n",
       "  9,\n",
       "  10,\n",
       "  11,\n",
       "  12,\n",
       "  13,\n",
       "  14,\n",
       "  15,\n",
       "  16,\n",
       "  17,\n",
       "  18,\n",
       "  19,\n",
       "  20,\n",
       "  21,\n",
       "  22,\n",
       "  23,\n",
       "  24,\n",
       "  25,\n",
       "  26,\n",
       "  27,\n",
       "  28,\n",
       "  29,\n",
       "  30,\n",
       "  31,\n",
       "  32,\n",
       "  33,\n",
       "  34,\n",
       "  35,\n",
       "  36,\n",
       "  37],\n",
       " 'might_have_rounded_floats': False}"
      ]
     },
     "execution_count": 27,
     "metadata": {},
     "output_type": "execute_result"
    }
   ],
   "source": [
    "cm_2"
   ]
  },
  {
   "cell_type": "code",
   "execution_count": null,
   "metadata": {},
   "outputs": [],
   "source": []
  }
 ],
 "metadata": {
  "kernelspec": {
   "display_name": "gptchem",
   "language": "python",
   "name": "python3"
  },
  "language_info": {
   "codemirror_mode": {
    "name": "ipython",
    "version": 3
   },
   "file_extension": ".py",
   "mimetype": "text/x-python",
   "name": "python",
   "nbconvert_exporter": "python",
   "pygments_lexer": "ipython3",
   "version": "3.9.16"
  },
  "orig_nbformat": 4
 },
 "nbformat": 4,
 "nbformat_minor": 2
}

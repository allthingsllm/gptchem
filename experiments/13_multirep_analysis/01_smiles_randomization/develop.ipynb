{
 "cells": [
  {
   "cell_type": "code",
   "execution_count": 35,
   "metadata": {},
   "outputs": [],
   "source": [
    "from rdkit import Chem\n",
    "import selfies\n",
    "import deepsmiles\n",
    "from tucan.io.molfile_reader import graph_from_molfile_text\n",
    "from tucan.canonicalization import canonicalize_molecule\n",
    "from tucan.serialization import serialize_molecule\n",
    "\n",
    "from io import StringIO\n",
    "import requests \n",
    "import pubchempy as pcp\n",
    "import time"
   ]
  },
  {
   "cell_type": "code",
   "execution_count": null,
   "metadata": {},
   "outputs": [],
   "source": [
    "https://github.com/volkamerlab/maxsmi/blob/main/maxsmi/utils/utils_smiles.py"
   ]
  },
  {
   "cell_type": "code",
   "execution_count": 25,
   "metadata": {},
   "outputs": [],
   "source": [
    "def augment_smiles(smiles, int_aug=50, deduplicate=True):\n",
    "    \"\"\"\n",
    "    Takes a SMILES (not necessarily canonical) and returns `int_aug` random variations of this SMILES.\n",
    "    \"\"\"\n",
    "\n",
    "    mol = Chem.MolFromSmiles(smiles)\n",
    "\n",
    "    if mol is None:\n",
    "        return None\n",
    "    else:\n",
    "        if int_aug > 0:\n",
    "            augmented = [\n",
    "                Chem.MolToSmiles(mol, canonical=False, doRandom=True)\n",
    "                for _ in range(int_aug)\n",
    "            ]\n",
    "            if deduplicate:\n",
    "                augmented = list(set(augmented))\n",
    "            return augmented\n",
    "        else:\n",
    "            raise ValueError(\"int_aug must be greater than zero.\")"
   ]
  },
  {
   "cell_type": "code",
   "execution_count": 43,
   "metadata": {},
   "outputs": [],
   "source": [
    "def smiles_to_max_random(smiles, max_duplication=10):\n",
    "    \"\"\"\n",
    "    Returns estimated maximum number of random SMILES.\n",
    "    \"\"\"\n",
    "    mol = Chem.MolFromSmiles(smiles)\n",
    "    if mol is None:\n",
    "        return None\n",
    "\n",
    "    smi_unique = []\n",
    "    counter = 0\n",
    "    while counter < max_duplication:\n",
    "        rand = Chem.MolToSmiles(mol, canonical=False, doRandom=True)\n",
    "        if rand not in smi_unique:\n",
    "            smi_unique.append(rand)\n",
    "            counter = 0\n",
    "        else:\n",
    "            counter += 1\n",
    "    return smi_unique\n"
   ]
  },
  {
   "cell_type": "code",
   "execution_count": 31,
   "metadata": {},
   "outputs": [],
   "source": [
    "def smiles_to_selfies(smiles):\n",
    "    \"\"\"\n",
    "    Takes a SMILES and return the selfies encoding.\n",
    "    \"\"\"\n",
    "\n",
    "    return [selfies.encoder(smiles)]\n",
    "\n",
    "\n",
    "def smiles_to_deepsmiles(smiles):\n",
    "    \"\"\"\n",
    "    Takes a SMILES and return the DeepSMILES encoding.\n",
    "    \"\"\"\n",
    "    converter = deepsmiles.Converter(rings=True, branches=True)\n",
    "    return converter.encode(smiles)\n",
    "\n",
    "\n",
    "def smiles_to_canoncial(smiles):\n",
    "    \"\"\"\n",
    "    Takes a SMILES and return the canoncial SMILES.\n",
    "    \"\"\"\n",
    "    mol = Chem.MolFromSmiles(smiles)\n",
    "    return Chem.MolToSmiles(mol)\n",
    "\n",
    "def smiles_to_inchi(smiles):\n",
    "    \"\"\"\n",
    "    Takes a SMILES and return the InChI.\n",
    "    \"\"\"\n",
    "    mol = Chem.MolFromSmiles(smiles)\n",
    "    return Chem.MolToInchi(mol)"
   ]
  },
  {
   "cell_type": "code",
   "execution_count": 27,
   "metadata": {},
   "outputs": [],
   "source": [
    "def smiles_to_tucan(smiles: str):\n",
    "    \"\"\"\n",
    "    Takes a SMILES and return the Tucan encoding. \n",
    "    For this, create a molfile as StringIO, read it with graph_from_file, \n",
    "    canonicalize it and serialize it.\n",
    "    \"\"\"\n",
    "    molfile = Chem.MolToMolBlock(Chem.MolFromSmiles(smiles))\n",
    "    mol = graph_from_molfile_text(molfile)\n",
    "    mol = canonicalize_molecule(mol)\n",
    "    return serialize_molecule(mol)"
   ]
  },
  {
   "cell_type": "code",
   "execution_count": 28,
   "metadata": {},
   "outputs": [
    {
     "data": {
      "text/plain": [
       "'C2O/(1-2)(2-3)'"
      ]
     },
     "execution_count": 28,
     "metadata": {},
     "output_type": "execute_result"
    }
   ],
   "source": [
    "smiles_to_tucan('CCO')"
   ]
  },
  {
   "cell_type": "code",
   "execution_count": 29,
   "metadata": {},
   "outputs": [
    {
     "data": {
      "text/plain": [
       "'CCO'"
      ]
     },
     "execution_count": 29,
     "metadata": {},
     "output_type": "execute_result"
    }
   ],
   "source": [
    "smiles_to_deepsmiles('CCO')"
   ]
  },
  {
   "cell_type": "code",
   "execution_count": 30,
   "metadata": {},
   "outputs": [
    {
     "data": {
      "text/plain": [
       "['CCO', 'C(C)O', 'C(O)C', 'OCC']"
      ]
     },
     "execution_count": 30,
     "metadata": {},
     "output_type": "execute_result"
    }
   ],
   "source": [
    "augment_smiles('CCO', int_aug=10)"
   ]
  },
  {
   "cell_type": "code",
   "execution_count": 32,
   "metadata": {},
   "outputs": [
    {
     "data": {
      "text/plain": [
       "'InChI=1S/C2H6O/c1-2-3/h3H,2H2,1H3'"
      ]
     },
     "execution_count": 32,
     "metadata": {},
     "output_type": "execute_result"
    }
   ],
   "source": [
    "smiles_to_inchi('CCO')"
   ]
  },
  {
   "cell_type": "code",
   "execution_count": 44,
   "metadata": {},
   "outputs": [
    {
     "data": {
      "text/plain": [
       "['OCC', 'CCO', 'C(C)O', 'C(O)C']"
      ]
     },
     "execution_count": 44,
     "metadata": {},
     "output_type": "execute_result"
    }
   ],
   "source": [
    "smiles_to_max_random('CCO')"
   ]
  },
  {
   "cell_type": "code",
   "execution_count": 36,
   "metadata": {},
   "outputs": [],
   "source": [
    "CACTUS = \"https://cactus.nci.nih.gov/chemical/structure/{0}/{1}\"\n",
    "\n",
    "def smiles_to_iupac_name(smiles: str):\n",
    "    \"\"\"Use the chemical name resolver https://cactus.nci.nih.gov/chemical/structure.\n",
    "    If this does not work, use pubchem.\n",
    "    \"\"\"\n",
    "    try:\n",
    "        time.sleep(0.001)\n",
    "        rep = \"iupac_name\"\n",
    "        url = CACTUS.format(smiles, rep)\n",
    "        response = requests.get(url)\n",
    "        response.raise_for_status()\n",
    "        name = response.text\n",
    "        if \"html\" in name:\n",
    "            return None\n",
    "        return name\n",
    "    except Exception:\n",
    "        try:\n",
    "            compound = pcp.get_compounds(smiles, \"smiles\")\n",
    "            return compound[0].iupac_name\n",
    "        except Exception:\n",
    "            return None"
   ]
  },
  {
   "cell_type": "code",
   "execution_count": 37,
   "metadata": {},
   "outputs": [
    {
     "data": {
      "text/plain": [
       "'ethanol'"
      ]
     },
     "execution_count": 37,
     "metadata": {},
     "output_type": "execute_result"
    }
   ],
   "source": [
    "smiles_to_iupac_name('CCO')"
   ]
  },
  {
   "cell_type": "code",
   "execution_count": null,
   "metadata": {},
   "outputs": [],
   "source": []
  }
 ],
 "metadata": {
  "kernelspec": {
   "display_name": "gptchem",
   "language": "python",
   "name": "python3"
  },
  "language_info": {
   "codemirror_mode": {
    "name": "ipython",
    "version": 3
   },
   "file_extension": ".py",
   "mimetype": "text/x-python",
   "name": "python",
   "nbconvert_exporter": "python",
   "pygments_lexer": "ipython3",
   "version": "3.9.16"
  },
  "orig_nbformat": 4
 },
 "nbformat": 4,
 "nbformat_minor": 2
}

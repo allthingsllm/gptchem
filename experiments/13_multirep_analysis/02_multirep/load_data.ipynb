{
 "cells": [
  {
   "cell_type": "code",
   "execution_count": 7,
   "metadata": {},
   "outputs": [
    {
     "name": "stdout",
     "output_type": "stream",
     "text": [
      "The autoreload extension is already loaded. To reload it, use:\n",
      "  %reload_ext autoreload\n"
     ]
    }
   ],
   "source": [
    "%load_ext autoreload \n",
    "%autoreload 2"
   ]
  },
  {
   "cell_type": "code",
   "execution_count": 21,
   "metadata": {},
   "outputs": [],
   "source": [
    "from fastcore.xtras import load_pickle\n",
    "import pandas as pd\n",
    "import numpy as np\n",
    "\n",
    "from gptchem.representation import smiles_to_tucan\n",
    "from gptchem.data import get_photoswitch_data, get_qmug_data, get_solubility_test_data, get_esol_data"
   ]
  },
  {
   "cell_type": "code",
   "execution_count": 22,
   "metadata": {},
   "outputs": [],
   "source": [
    "esol_reps = load_pickle('esol_line_reprs.pkl')\n",
    "solubility_test_reps = load_pickle('solubility_test_line_reprs.pkl')\n",
    "photoswitch_reps = load_pickle('photoswitch_line_reprs.pkl')\n",
    "qmug_reps = load_pickle('qmug_line_reprs.pkl')"
   ]
  },
  {
   "cell_type": "code",
   "execution_count": 23,
   "metadata": {},
   "outputs": [],
   "source": [
    "esol_reps = pd.DataFrame(esol_reps)\n",
    "solubility_test_reps = pd.DataFrame(solubility_test_reps)\n",
    "photoswitch_reps = pd.DataFrame(photoswitch_reps)\n",
    "qmug_reps = pd.DataFrame(qmug_reps)\n"
   ]
  },
  {
   "cell_type": "code",
   "execution_count": 26,
   "metadata": {},
   "outputs": [],
   "source": [
    "reps = [\"smiles\", \"selfies\", \"deepsmiles\", \"canonical\", \"inchi\", \"tucan\", \"iupac_name\"]"
   ]
  },
  {
   "cell_type": "code",
   "execution_count": 24,
   "metadata": {},
   "outputs": [],
   "source": [
    "esol_data = get_esol_data()\n",
    "solubility_test_data = get_solubility_test_data()\n",
    "photoswitch_data = get_photoswitch_data()\n",
    "qmug_data = get_qmug_data()"
   ]
  },
  {
   "cell_type": "code",
   "execution_count": 32,
   "metadata": {},
   "outputs": [
    {
     "name": "stderr",
     "output_type": "stream",
     "text": [
      "/var/folders/m9/_txh68y946s4pxy1x2wnd3lh0000gn/T/ipykernel_21985/1798528849.py:3: FutureWarning: Passing 'suffixes' which cause duplicate columns {'inchi_x', 'selfies_x'} in the result is deprecated and will raise a MergeError in a future version.\n",
      "  photoswitch_data = photoswitch_data.merge(photoswitch_reps[reps], left_on=\"SMILES\", right_on=\"smiles\")\n"
     ]
    }
   ],
   "source": [
    "esol_data = esol_data.merge(esol_reps[reps], left_on=\"SMILES\", right_on=\"smiles\")\n",
    "solubility_test_data = solubility_test_data.merge(solubility_test_reps[reps], left_on=\"SMILES\", right_on=\"smiles\")\n",
    "photoswitch_data = photoswitch_data.merge(photoswitch_reps[reps], left_on=\"SMILES\", right_on=\"smiles\")\n",
    "qmug_data = qmug_data.merge(qmug_reps[reps[:-1]], left_on=\"SMILES\", right_on=\"smiles\")"
   ]
  },
  {
   "cell_type": "code",
   "execution_count": 35,
   "metadata": {},
   "outputs": [],
   "source": [
    "esol_data.to_csv('esol_data.csv')\n",
    "solubility_test_data.to_csv('solubility_test_data.csv')\n",
    "photoswitch_data.to_csv('photoswitch_data.csv')\n",
    "qmug_data.to_csv('qmug_data.csv')"
   ]
  },
  {
   "cell_type": "code",
   "execution_count": null,
   "metadata": {},
   "outputs": [],
   "source": []
  }
 ],
 "metadata": {
  "kernelspec": {
   "display_name": "gptchem",
   "language": "python",
   "name": "python3"
  },
  "language_info": {
   "codemirror_mode": {
    "name": "ipython",
    "version": 3
   },
   "file_extension": ".py",
   "mimetype": "text/x-python",
   "name": "python",
   "nbconvert_exporter": "python",
   "pygments_lexer": "ipython3",
   "version": "3.9.16"
  },
  "orig_nbformat": 4
 },
 "nbformat": 4,
 "nbformat_minor": 2
}
